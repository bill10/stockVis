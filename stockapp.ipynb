{
 "cells": [
  {
   "cell_type": "code",
   "execution_count": 1,
   "metadata": {
    "collapsed": true
   },
   "outputs": [],
   "source": [
    "from bokeh.plotting import figure, output_server, show, cursession, push\n",
    "from bokeh.models import LinearAxis, Range1d, ColumnDataSource\n",
    "from bokeh.models.widgets import TextInput,VBox\n",
    "from bokeh.io import gridplot, vplot, hplot\n",
    "from bokeh.document import Document\n",
    "from bokeh.session import Session\n",
    "from datetime import datetime\n",
    "import numpy as np\n",
    "import pandas as pd\n",
    "import os\n",
    "from multiprocessing import Pool, Process, Queue\n",
    "import subprocess\n",
    "from time import sleep\n",
    "import sys"
   ]
  },
  {
   "cell_type": "code",
   "execution_count": 2,
   "metadata": {
    "collapsed": false
   },
   "outputs": [
    {
     "name": "stdout",
     "output_type": "stream",
     "text": [
      "Using saved session configuration for http://localhost:5006/\n",
      "To override, pass 'load_from_config=False' to Session\n"
     ]
    }
   ],
   "source": [
    "document = Document()\n",
    "session = Session()\n",
    "session.use_doc('Stock Price')\n",
    "session.load_document(document)"
   ]
  },
  {
   "cell_type": "code",
   "execution_count": 3,
   "metadata": {
    "collapsed": false
   },
   "outputs": [
    {
     "name": "stdout",
     "output_type": "stream",
     "text": [
      "Pulling GOOG...\n",
      "Starting jobs!!!\n",
      "Waiting to update!\n",
      "Pulling AAPL...\n",
      "Starting jobs!!!\n",
      "Connection to bokeh-server was terminated\n"
     ]
    },
    {
     "name": "stderr",
     "output_type": "stream",
     "text": [
      "/home/ubuntu/anaconda/lib/python2.7/site-packages/bokeh/session.py:318: UserWarning: You need to start the bokeh-server to see this example.\n",
      "  warnings.warn(\"You need to start the bokeh-server to see this example.\")\n"
     ]
    }
   ],
   "source": [
    "def load_data(files,q):\n",
    "    '''\n",
    "    files: files to load. If not available, download first.\n",
    "    q: queue to put data.\n",
    "    '''\n",
    "    for f in files:\n",
    "        if not os.path.exists(f):\n",
    "            print(\"Downloading {}\".format(f))\n",
    "            sys.stdout.flush()\n",
    "            s,t = f.split('/')\n",
    "            if not os.path.exists(s):\n",
    "                os.makedirs(s)\n",
    "            subprocess.call(['scp', '-q', '-r', 'osg:/home/bill10/stash/public/Stock/{}.KP/{}'.format(t,s),'{}/{}'.format(s,t)])\n",
    "        if os.path.exists(f):\n",
    "            df=pd.read_csv(f, header=None,\n",
    "                usecols=[1,2,6,8],\n",
    "                parse_dates={'Time':[1,2]})\n",
    "            df.columns=['Time', 'Price', 'Size']\n",
    "            if df.size:\n",
    "                q.put(df)\n",
    "\n",
    "def update_data(ds,s,q):\n",
    "    '''\n",
    "    ds: data source to update.\n",
    "    s: session to update.\n",
    "    q: queue to get data.\n",
    "    '''\n",
    "    print(\"Waiting to update!\")\n",
    "    while True:\n",
    "        df=q.get()\n",
    "        if df.size:\n",
    "            ds.data=ds.to_df().append(df).to_dict('list')\n",
    "        else:\n",
    "            ds.data={'Time':[], 'Price':[], 'Size':[]}\n",
    "        s.store_objects(ds)\n",
    "\n",
    "def input_change(obj, attrname, old, new):\n",
    "    q.put(pd.DataFrame({'Time':[], 'Price':[], 'Size':[]}))\n",
    "    print(\"Pulling {}...\".format(new))\n",
    "    files=[\"e{}/201004{:0>2}\".format(new,i) for i in range(1,2)]\n",
    "    chunks=10\n",
    "    if len(files)<chunks:\n",
    "        chunksize=1\n",
    "    else:\n",
    "        chunksize=int(np.ceil(len(files)*1.0/chunks))\n",
    "    jobs=[Process(target=load_data, args=(files[i:i+chunksize],q), name='load_data') for i in xrange(0, len(files), chunksize)]\n",
    "    print(\"Starting jobs!!!\")\n",
    "    for p in jobs: \n",
    "        p.start()\n",
    "    for p in jobs:\n",
    "        p.join()\n",
    "\n",
    "text_input = TextInput(value=\"\", title=\"Symbol:\")\n",
    "text_input.on_change('value',input_change)\n",
    "data=ColumnDataSource({'Time':[], 'Price':[], 'Size':[]})\n",
    "p = figure(x_axis_type = \"datetime\",plot_width=900,plot_height=300)\n",
    "p.line('Time', 'Price', source=data)\n",
    "layout = VBox([text_input,p]);\n",
    "document.add(layout)\n",
    "session.store_document(document)\n",
    "q=Queue()\n",
    "p=Process(target=update_data, args=(data,session,q), name='stockapp_update')\n",
    "p.start()\n",
    "session.poll_document(document,1);"
   ]
  },
  {
   "cell_type": "code",
   "execution_count": 13,
   "metadata": {
    "collapsed": false
   },
   "outputs": [
    {
     "name": "stdout",
     "output_type": "stream",
     "text": [
      "Writing stockapp.py\n"
     ]
    }
   ],
   "source": [
    "%%file stockapp.py\n",
    "import numpy as np\n",
    "from bokeh.plotting import figure\n",
    "from bokeh.models import Plot, ColumnDataSource, Range1d\n",
    "from bokeh.properties import Instance\n",
    "from bokeh.server.app import bokeh_app\n",
    "from bokeh.server.utils.plugins import object_page\n",
    "from bokeh.models.widgets import HBox, Slider, TextInput, VBoxForm, VBox\n",
    "from multiprocessing import Pool,Process,Queue\n",
    "import os\n",
    "import sys\n",
    "import subprocess\n",
    "import pandas as pd\n",
    "\n",
    "\n",
    "class StockApp(VBox):\n",
    "    extra_generated_classes = [[\"StockApp\", \"StockApp\", \"VBox\"]]\n",
    "    text = Instance(TextInput)\n",
    "    plot = Instance(Plot)\n",
    "    source = Instance(ColumnDataSource)\n",
    "\n",
    "    @classmethod\n",
    "    def create(cls):\n",
    "        \"\"\"One-time creation of app's objects.\n",
    "        This function is called once, and is responsible for\n",
    "        creating all objects (plots, datasources, etc)\"\"\"\n",
    "        obj = cls()\n",
    "        obj.source = ColumnDataSource({'Time':[], 'Price':[], 'Size':[]})\n",
    "        obj.text = TextInput(value=\"\", title=\"Symbol:\")\n",
    "        # Generate a figure container\n",
    "        plot = figure(x_axis_type = \"datetime\",\n",
    "                      plot_width=900,plot_height=300)\n",
    "                      #tools=\"pan,box_zoom,reset,resize,crosshair\")\n",
    "        # Plot the line by the x,y values in the source property\n",
    "        plot.line('Time', 'Price', source=obj.source)\n",
    "        obj.plot = plot\n",
    "        obj.children.append(obj.text)\n",
    "        obj.children.append(obj.plot)\n",
    "        return obj\n",
    "\n",
    "    def setup_events(self):\n",
    "        \"\"\"Attaches the on_change event to the value property of the widget.\n",
    "        The callback is set to the input_change method of this app.\"\"\"\n",
    "        super(StockApp, self).setup_events()\n",
    "        if not self.text:\n",
    "            return\n",
    "        # Text box event registration\n",
    "        self.text.on_change('value', self, 'input_change')\n",
    "\n",
    "    def input_change(self, obj, attrname, old, new):\n",
    "        \"\"\"Executes whenever the input form changes.\n",
    "        It is responsible for updating the plot, or anything else you want.\n",
    "        Args:\n",
    "            obj : the object that changed\n",
    "            attrname : the attr that changed\n",
    "            old : old value of attr\n",
    "            new : new value of attr\n",
    "        \"\"\"\n",
    "        print(\"Pulling {}...\".format(new))\n",
    "        def load_data(files,q):\n",
    "            for f in files:\n",
    "                if not os.path.exists(f):\n",
    "                    print(\"Downloading {}\".format(f))\n",
    "                    sys.stdout.flush()\n",
    "                    _,s,t = f.split('/')\n",
    "                    if not os.path.exists(\"Data/\"+s):\n",
    "                        os.makedirs(\"Data/\"+s)\n",
    "                    subprocess.call(['scp', '-q', '-r', 'osg:/home/bill10/stash/public/Stock/{}.KP/e{}'.format(t,s),'Data/{}/{}'.format(s,t)])\n",
    "                if not os.path.exists(f):\n",
    "                    q.put(pd.DataFrame(columns=['Time', 'Price', 'Size']))\n",
    "                else:\n",
    "                    df=pd.read_csv(f, header=None,\n",
    "                        usecols=[1,2,6,8],\n",
    "                        parse_dates={'Time':[1,2]})\n",
    "                    df.columns=['Time', 'Price', 'Size']\n",
    "                    q.put(df)\n",
    "        q=Queue()\n",
    "        files=[\"Data/{}/201004{:0>2}\".format(new,i) for i in range(1,2)]\n",
    "        chunks=10\n",
    "        if len(files)<chunks:\n",
    "            chunksize=1\n",
    "        else:\n",
    "            chunksize=int(np.ceil(len(files)*1.0/chunks))\n",
    "        jobs=[Process(target=load_data, args=(files[i:i+chunksize],q), name='stockapp') for i in xrange(0, len(files), chunksize)]\n",
    "        for p in jobs: \n",
    "            p.start()\n",
    "        res=0\n",
    "        df=pd.DataFrame({'Time':[], 'Price':[], 'Size':[]})\n",
    "        while res<len(files):\n",
    "            df=df.append(q.get())\n",
    "            res+=1\n",
    "        for p in jobs:\n",
    "            p.join()\n",
    "        self.source.data=df.sort('Time').to_dict('list')\n",
    "        #self.plot.y_range.start=df['Price'].min()\n",
    "        #self.plot.y_range.end=df['Price'].max()\n",
    "        self.plot.line('Time','Price',source=self.source)\n",
    "\n",
    "# The following code adds a \"/bokeh/sliders/\" url to the bokeh-server. This\n",
    "# URL will render this sine wave sliders app. If you don't want to serve this\n",
    "# applet from a Bokeh server (for instance if you are embedding in a separate\n",
    "# Flask application), then just remove this block of code.\n",
    "@bokeh_app.route(\"/stocks/\")\n",
    "@object_page(\"stocks\")\n",
    "def make_sliders():\n",
    "    app = StockApp.create()\n",
    "    return app\n"
   ]
  },
  {
   "cell_type": "code",
   "execution_count": 22,
   "metadata": {
    "collapsed": true
   },
   "outputs": [],
   "source": [
    "p=figure()"
   ]
  },
  {
   "cell_type": "code",
   "execution_count": 23,
   "metadata": {
    "collapsed": false
   },
   "outputs": [
    {
     "data": {
      "text/plain": [
       "<bokeh.models.renderers.GlyphRenderer at 0x7fc342283950>"
      ]
     },
     "execution_count": 23,
     "metadata": {},
     "output_type": "execute_result"
    }
   ],
   "source": [
    "p.line([1,2],[1,2])"
   ]
  },
  {
   "cell_type": "code",
   "execution_count": 35,
   "metadata": {
    "collapsed": false
   },
   "outputs": [
    {
     "data": {
      "text/plain": [
       "<bound method DataRange1d.update of <bokeh.models.ranges.DataRange1d object at 0x7fc3559ba9d0>>"
      ]
     },
     "execution_count": 35,
     "metadata": {},
     "output_type": "execute_result"
    }
   ],
   "source": [
    "p.y_range.update"
   ]
  },
  {
   "cell_type": "code",
   "execution_count": 24,
   "metadata": {
    "collapsed": false
   },
   "outputs": [
    {
     "data": {
      "text/plain": [
       "{'above',\n",
       " 'background_fill',\n",
       " 'below',\n",
       " 'border_fill',\n",
       " 'disabled',\n",
       " 'extra_x_ranges',\n",
       " 'extra_y_ranges',\n",
       " 'h_symmetry',\n",
       " 'left',\n",
       " 'lod_factor',\n",
       " 'lod_interval',\n",
       " 'lod_threshold',\n",
       " 'lod_timeout',\n",
       " 'logo',\n",
       " 'min_border',\n",
       " 'min_border_bottom',\n",
       " 'min_border_left',\n",
       " 'min_border_right',\n",
       " 'min_border_top',\n",
       " 'name',\n",
       " 'outline_line_alpha',\n",
       " 'outline_line_cap',\n",
       " 'outline_line_color',\n",
       " 'outline_line_dash',\n",
       " 'outline_line_dash_offset',\n",
       " 'outline_line_join',\n",
       " 'outline_line_width',\n",
       " 'plot_height',\n",
       " 'plot_width',\n",
       " 'renderers',\n",
       " 'responsive',\n",
       " 'right',\n",
       " 'session',\n",
       " 'tags',\n",
       " 'title',\n",
       " 'title_text_align',\n",
       " 'title_text_alpha',\n",
       " 'title_text_baseline',\n",
       " 'title_text_color',\n",
       " 'title_text_font',\n",
       " 'title_text_font_size',\n",
       " 'title_text_font_style',\n",
       " 'tool_events',\n",
       " 'toolbar_location',\n",
       " 'tools',\n",
       " 'v_symmetry',\n",
       " 'webgl',\n",
       " 'x_mapper_type',\n",
       " 'x_range',\n",
       " 'y_mapper_type',\n",
       " 'y_range'}"
      ]
     },
     "execution_count": 24,
     "metadata": {},
     "output_type": "execute_result"
    }
   ],
   "source": [
    "p.properties()"
   ]
  }
 ],
 "metadata": {
  "kernelspec": {
   "display_name": "Python 2",
   "language": "python",
   "name": "python2"
  },
  "language_info": {
   "codemirror_mode": {
    "name": "ipython",
    "version": 2
   },
   "file_extension": ".py",
   "mimetype": "text/x-python",
   "name": "python",
   "nbconvert_exporter": "python",
   "pygments_lexer": "ipython2",
   "version": "2.7.10"
  }
 },
 "nbformat": 4,
 "nbformat_minor": 0
}
